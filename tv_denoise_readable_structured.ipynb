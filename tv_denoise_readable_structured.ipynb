{
 "cells": [
  {
   "cell_type": "markdown",
   "id": "44dfe965",
   "metadata": {},
   "source": [
    "# TV Denoising with Ensemble Regularization (Python version)\n",
    "This notebook is a translation of the MATLAB script `tv_denoise_remove_huber_highorder_vectorized.m`.\n",
    "It implements:\n",
    "- Anisotropic TV\n",
    "- Isotropic TV\n",
    "- Exp(sqrt(.)) Regularizer\n",
    "- Ensemble denoising (mean, weighted, median)\n",
    "\n",
    "Using ADMM and FFT-based solvers."
   ]
  },
  {
   "cell_type": "code",
   "execution_count": null,
   "id": "191f52df",
   "metadata": {},
   "outputs": [],
   "source": [
    "# %% [Dependencies]\n",
    "# Uncomment the following line if packages are missing\n",
    "# !pip install numpy imageio matplotlib scikit-image scipy\n",
    "import numpy as np\n",
    "import imageio.v3 as imageio\n",
    "import matplotlib.pyplot as plt\n",
    "from skimage.color import rgb2ycbcr, ycbcr2rgb, rgb2gray\n",
    "from scipy.fft import fft2, ifft2"
   ]
  },
  {
   "cell_type": "markdown",
   "id": "d7a3abdf",
   "metadata": {},
   "source": [
    "## Parameters"
   ]
  },
  {
   "cell_type": "code",
   "execution_count": null,
   "id": "4905c08b",
   "metadata": {},
   "outputs": [],
   "source": [
    "# ---------------- Parameters ----------------\n",
    "noisyFileName = 'noisyballoon2.png'\n",
    "useColor = True\n",
    "\n",
    "lambda_tv = 1e-4\n",
    "lambda_exp = 1e-4\n",
    "rho = 2.0\n",
    "maxIter = 200\n",
    "tol = 1e-5\n",
    "showEvery = 25"
   ]
  },
  {
   "cell_type": "markdown",
   "id": "ee1ad2da",
   "metadata": {},
   "source": [
    "## Load Image"
   ]
  },
  {
   "cell_type": "code",
   "execution_count": null,
   "id": "536f4390",
   "metadata": {},
   "outputs": [],
   "source": [
    "Iin = imageio.imread(noisyFileName).astype(np.float64) / 255.0\n",
    "\n",
    "if useColor and Iin.ndim == 3:\n",
    "    I_ycbcr = rgb2ycbcr(Iin)\n",
    "    Ychan = I_ycbcr[:, :, 0]\n",
    "    Cb = I_ycbcr[:, :, 1]\n",
    "    Cr = I_ycbcr[:, :, 2]\n",
    "    y = Ychan.copy()\n",
    "else:\n",
    "    if Iin.ndim == 3:\n",
    "        y = rgb2gray(Iin)\n",
    "    else:\n",
    "        y = Iin.copy()\n",
    "    Cb, Cr = None, None\n",
    "\n",
    "Ny, Nx = y.shape"
   ]
  },
  {
   "cell_type": "markdown",
   "id": "1a80aa48",
   "metadata": {},
   "source": [
    "## Operators"
   ]
  },
  {
   "cell_type": "code",
   "execution_count": null,
   "id": "1c63206e",
   "metadata": {},
   "outputs": [],
   "source": [
    "def grad(x):\n",
    "    gx = np.roll(x, -1, axis=1) - x\n",
    "    gy = np.roll(x, -1, axis=0) - x\n",
    "    return gx, gy\n",
    "\n",
    "def divergence(gx, gy):\n",
    "    return gx - np.roll(gx, 1, axis=1) + gy - np.roll(gy, 1, axis=0)"
   ]
  },
  {
   "cell_type": "markdown",
   "id": "51e9a1dc",
   "metadata": {},
   "source": [
    "## FFT Precomputation"
   ]
  },
  {
   "cell_type": "code",
   "execution_count": null,
   "id": "193f4e6f",
   "metadata": {},
   "outputs": [],
   "source": [
    "ux, uy = np.meshgrid(np.arange(Nx), np.arange(Ny))\n",
    "wx = 2 * np.pi * ux / Nx\n",
    "wy = 2 * np.pi * uy / Ny\n",
    "eigDtD = (2 - 2 * np.cos(wx)) + (2 - 2 * np.cos(wy))\n",
    "denomFFT_first = 1 + rho * eigDtD"
   ]
  },
  {
   "cell_type": "markdown",
   "id": "7d458fa3",
   "metadata": {},
   "source": [
    "## 1️⃣ Anisotropic TV Denoising"
   ]
  },
  {
   "cell_type": "code",
   "execution_count": null,
   "id": "ac65c04e",
   "metadata": {},
   "outputs": [],
   "source": [
    "x = y.copy()\n",
    "zx = np.zeros_like(x)\n",
    "zy = np.zeros_like(x)\n",
    "ux_d = np.zeros_like(x)\n",
    "uy_d = np.zeros_like(x)\n",
    "prevx = x.copy()\n",
    "\n",
    "for k in range(1, maxIter + 1):\n",
    "    rhs = y + rho * divergence(zx - ux_d, zy - uy_d)\n",
    "    x = np.real(ifft2(fft2(rhs) / denomFFT_first))\n",
    "    dx, dy = grad(x)\n",
    "    thresh = lambda_tv / rho\n",
    "    zx = np.maximum(np.abs(dx + ux_d) - thresh, 0) * np.sign(dx + ux_d)\n",
    "    zy = np.maximum(np.abs(dy + uy_d) - thresh, 0) * np.sign(dy + uy_d)\n",
    "    ux_d += dx - zx\n",
    "    uy_d += dy - zy\n",
    "    relchg = np.linalg.norm(x - prevx) / max(1e-8, np.linalg.norm(prevx))\n",
    "    if k % showEvery == 0 or k == 1 or relchg < tol:\n",
    "        tvTerm = np.sum(np.abs(dx)) + np.sum(np.abs(dy))\n",
    "        obj = 0.5 * np.sum((x - y) ** 2) + lambda_tv * tvTerm\n",
    "        print(f\"Aniso TV iter {k:4d}: obj={obj:.6f}, relchg={relchg:.3e}\")\n",
    "    if relchg < tol:\n",
    "        break\n",
    "    prevx = x.copy()\n",
    "\n",
    "x_aniso = x.copy()"
   ]
  },
  {
   "cell_type": "markdown",
   "id": "1530673e",
   "metadata": {},
   "source": [
    "## 2️⃣ Isotropic TV Denoising"
   ]
  },
  {
   "cell_type": "code",
   "execution_count": null,
   "id": "ea918415",
   "metadata": {},
   "outputs": [],
   "source": [
    "x = y.copy()\n",
    "zx = np.zeros_like(x)\n",
    "zy = np.zeros_like(x)\n",
    "ux_d = np.zeros_like(x)\n",
    "uy_d = np.zeros_like(x)\n",
    "prevx = x.copy()\n",
    "\n",
    "for k in range(1, maxIter + 1):\n",
    "    rhs = y + rho * divergence(zx - ux_d, zy - uy_d)\n",
    "    x = np.real(ifft2(fft2(rhs) / denomFFT_first))\n",
    "    dx, dy = grad(x)\n",
    "    v1, v2 = dx + ux_d, dy + uy_d\n",
    "    mag = np.sqrt(v1 ** 2 + v2 ** 2)\n",
    "    scale = np.maximum(0, 1 - lambda_tv / (rho * (mag + 1e-12)))\n",
    "    zx = scale * v1\n",
    "    zy = scale * v2\n",
    "    ux_d += dx - zx\n",
    "    uy_d += dy - zy\n",
    "    relchg = np.linalg.norm(x - prevx) / max(1e-8, np.linalg.norm(prevx))\n",
    "    if k % showEvery == 0 or k == 1 or relchg < tol:\n",
    "        tvTerm = np.sum(np.sqrt(dx ** 2 + dy ** 2))\n",
    "        obj = 0.5 * np.sum((x - y) ** 2) + lambda_tv * tvTerm\n",
    "        print(f\"Iso TV iter {k:4d}: obj={obj:.6f}, relchg={relchg:.3e}\")\n",
    "    if relchg < tol:\n",
    "        break\n",
    "    prevx = x.copy()\n",
    "\n",
    "x_iso = x.copy()"
   ]
  },
  {
   "cell_type": "markdown",
   "id": "2b6cb607",
   "metadata": {},
   "source": [
    "## 3️⃣ Exp(sqrt(.)) Gradient Regularizer"
   ]
  },
  {
   "cell_type": "code",
   "execution_count": null,
   "id": "d67def5e",
   "metadata": {},
   "outputs": [],
   "source": [
    "def phi(t):\n",
    "    return np.exp(np.sqrt(t)) - 1\n",
    "\n",
    "x = y.copy()\n",
    "vx = np.zeros_like(x)\n",
    "vy = np.zeros_like(x)\n",
    "bx = np.zeros_like(x)\n",
    "by = np.zeros_like(x)\n",
    "prevx = x.copy()\n",
    "\n",
    "for k in range(1, maxIter + 1):\n",
    "    rhs = y + rho * divergence(vx - bx, vy - by)\n",
    "    x = np.real(ifft2(fft2(rhs) / denomFFT_first))\n",
    "\n",
    "    dx, dy = grad(x)\n",
    "    qx, qy = dx + bx, dy + by\n",
    "    r = np.sqrt(qx ** 2 + qy ** 2)\n",
    "\n",
    "    t = np.maximum(r - lambda_exp / rho, 0)\n",
    "    tol_newton = 1e-12\n",
    "    max_newton = 20\n",
    "\n",
    "    for _ in range(max_newton):\n",
    "        t_safe = np.maximum(t, 1e-12)\n",
    "        dphi = 0.5 / np.sqrt(t_safe) * np.exp(np.sqrt(t_safe))\n",
    "        g = lambda_exp * dphi + rho * (t - r)\n",
    "        ddphi = (-0.25 / (t_safe ** 1.5)) * np.exp(np.sqrt(t_safe)) + 0.25 / t_safe * np.exp(np.sqrt(t_safe))\n",
    "        H = lambda_exp * ddphi + rho\n",
    "        t_new = np.maximum(t - g / (H + np.finfo(float).eps), 0)\n",
    "        if np.max(np.abs(t_new - t)) < tol_newton:\n",
    "            t = t_new\n",
    "            break\n",
    "        t = t_new\n",
    "\n",
    "    vx = (t / np.maximum(r, 1e-12)) * qx\n",
    "    vy = (t / np.maximum(r, 1e-12)) * qy\n",
    "    bx += dx - vx\n",
    "    by += dy - vy\n",
    "\n",
    "    relchg = np.linalg.norm(x - prevx) / max(1e-8, np.linalg.norm(prevx))\n",
    "    if k % showEvery == 0 or k == 1 or relchg < tol:\n",
    "        gradmag = np.sqrt(dx ** 2 + dy ** 2)\n",
    "        obj = 0.5 * np.sum((x - y) ** 2) + lambda_exp * np.sum(phi(gradmag))\n",
    "        print(f\"ExpReg iter {k:4d}: obj={obj:.6f}, relchg={relchg:.3e}\")\n",
    "    if relchg < tol:\n",
    "        break\n",
    "    prevx = x.copy()\n",
    "\n",
    "x_exp = x.copy()"
   ]
  },
  {
   "cell_type": "markdown",
   "id": "a7dd6640",
   "metadata": {},
   "source": [
    "## 4️⃣ Ensemble Combination"
   ]
  },
  {
   "cell_type": "code",
   "execution_count": null,
   "id": "d8acfa78",
   "metadata": {},
   "outputs": [],
   "source": [
    "def grad_magnitude(x):\n",
    "    gx, gy = grad(x)\n",
    "    return np.sqrt(gx**2 + gy**2)\n",
    "\n",
    "reg_a = np.sum(np.abs(grad(x_aniso)[0]) + np.abs(grad(x_aniso)[1]))\n",
    "reg_i = np.sum(grad_magnitude(x_iso))\n",
    "reg_e = np.sum(np.exp(np.sqrt(grad_magnitude(x_exp))) - 1)\n",
    "reg_values = np.array([reg_a, reg_i, reg_e])\n",
    "weights = 1.0 / (reg_values + np.finfo(float).eps)\n",
    "weights /= np.sum(weights)\n",
    "\n",
    "x_list = np.stack([x_aniso, x_iso, x_exp], axis=-1)\n",
    "x_ensemble_mean = np.mean(x_list, axis=-1)\n",
    "x_ensemble_weighted = weights[0]*x_aniso + weights[1]*x_iso + weights[2]*x_exp\n",
    "x_ensemble_median = np.median(x_list, axis=-1)"
   ]
  },
  {
   "cell_type": "markdown",
   "id": "187687ba",
   "metadata": {},
   "source": [
    "## 5️⃣ Color Reconstruction and Display"
   ]
  },
  {
   "cell_type": "code",
   "execution_count": null,
   "id": "54be2169",
   "metadata": {},
   "outputs": [],
   "source": [
    "def clip_img(img):\n",
    "    return np.clip(img, 0, 1)\n",
    "\n",
    "from skimage.transform import resize\n",
    "\n",
    "if useColor and Cb is not None and Cr is not None:\n",
    "    if Cb.shape != (Ny, Nx):\n",
    "        Cb = resize(Cb, (Ny, Nx))\n",
    "        Cr = resize(Cr, (Ny, Nx))\n",
    "\n",
    "    def combine(Y):\n",
    "        return clip_img(ycbcr2rgb(np.stack([Y, Cb, Cr], axis=-1)))\n",
    "\n",
    "    out_imgs = {\n",
    "        'Aniso TV': combine(x_aniso),\n",
    "        'Iso TV': combine(x_iso),\n",
    "        'Exp(sqrt(.)) Reg': combine(x_exp),\n",
    "        'Ensemble Mean': combine(x_ensemble_mean),\n",
    "        'Ensemble Weighted': combine(x_ensemble_weighted),\n",
    "        'Ensemble Median': combine(x_ensemble_median)\n",
    "    }\n",
    "else:\n",
    "    out_imgs = {\n",
    "        'Aniso TV': clip_img(x_aniso),\n",
    "        'Iso TV': clip_img(x_iso),\n",
    "        'Exp(sqrt(.)) Reg': clip_img(x_exp),\n",
    "        'Ensemble Mean': clip_img(x_ensemble_mean),\n",
    "        'Ensemble Weighted': clip_img(x_ensemble_weighted),\n",
    "        'Ensemble Median': clip_img(x_ensemble_median)\n",
    "    }\n",
    "\n",
    "plt.figure(figsize=(16, 8))\n",
    "plt.subplot(2, 4, 1)\n",
    "plt.imshow(Iin)\n",
    "plt.title('Noisy Input')\n",
    "for i, (name, img) in enumerate(out_imgs.items(), start=2):\n",
    "    plt.subplot(2, 4, i)\n",
    "    plt.imshow(img)\n",
    "    plt.title(name)\n",
    "plt.tight_layout()\n",
    "plt.show()"
   ]
  },
  {
   "cell_type": "markdown",
   "id": "35095664",
   "metadata": {},
   "source": [
    "## 6️⃣ Save Outputs"
   ]
  },
  {
   "cell_type": "code",
   "execution_count": null,
   "id": "1da48ca6",
   "metadata": {},
   "outputs": [],
   "source": [
    "for name, img in out_imgs.items():\n",
    "    fname = 'denoised_' + name.lower().replace(' ', '_').replace('(', '').replace(')', '').replace('.', '') + '.png'\n",
    "    imageio.imwrite(fname, (clip_img(img) * 255).astype(np.uint8))\n",
    "\n",
    "print('All outputs saved.')"
   ]
  }
 ],
 "metadata": {},
 "nbformat": 4,
 "nbformat_minor": 5
}
